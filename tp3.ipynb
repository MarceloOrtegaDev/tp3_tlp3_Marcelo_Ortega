{
 "cells": [
  {
   "cell_type": "markdown",
   "id": "498731c6",
   "metadata": {},
   "source": [
    "# Trabajo Practico n3 - Trabajando con Lists y Sets.\n",
    "## Criterios de evaluación.\n",
    "\n",
    "* Se deben utilizar nombres de variables descriptivos y claros (Utilizar la nomeclatura correspondiente para los nombres de variables).\n",
    "* Comentarios claros y concisos que expliquen el propósito de cada sección del código.\n",
    "* Utilizar mensajes de commit **descriptivos**. (Puedes utilizar la extension CONVENTIONAL COMMIT de VS-CODE). \n",
    "* Entrega en tiempo y forma.\n",
    "* Todo el código desarrollado debe ser subido a un repositorio en GitHub (el nombre del repositorio de seguir la siguiente estructura: tp3_tlp3_nombre_apellido).\n",
    "* Para resolver las actividades se debe insertar casillas de codigo entre cada actividad del cuaderno de Jupyter\n",
    "* El repositorio de GitHub debe incluir un archivo README.md con las instrucciones necesarias para la correcta ejecución del código.\n",
    "\n",
    "### ¡Importante!\n",
    "**El incumplimiento de los criterios de evaluación restará puntos en la nota final del práctico!**"
   ]
  },
  {
   "cell_type": "markdown",
   "id": "b361a7b6",
   "metadata": {},
   "source": [
    "### Actividad 1: \n",
    "Suma de todos los elementos de una lista, utilizando bucles repetitivos (for, while)."
   ]
  },
  {
   "cell_type": "code",
   "execution_count": null,
   "id": "26009294",
   "metadata": {},
   "outputs": [
    {
     "name": "stdout",
     "output_type": "stream",
     "text": [
      "204\n"
     ]
    }
   ],
   "source": [
    "# Creamos una lista de números\n",
    "numbers = [14, 23, 34, 48, 85]\n",
    "\n",
    "# Inicializamos una variable para guardar la suma total\n",
    "suma = 0\n",
    "\n",
    "for i in numbers:\n",
    "    suma += i  # Vamos sumando cada número a la variable 'suma'\n",
    "\n",
    "print(suma)\n"
   ]
  },
  {
   "cell_type": "markdown",
   "id": "0c239195",
   "metadata": {},
   "source": [
    "### Actividad 2: \n",
    "Encontrar el número más grande en una lista, utilizando bucles repetitivos (for, while)."
   ]
  },
  {
   "cell_type": "code",
   "execution_count": 112,
   "id": "3611d25a",
   "metadata": {},
   "outputs": [
    {
     "name": "stdout",
     "output_type": "stream",
     "text": [
      "[17, 24, 68, 40, 89]\n",
      "El número más grande es:  89\n"
     ]
    }
   ],
   "source": [
    "from random import randint\n",
    "\n",
    "# Genera 5 números al azar entre 1 y 100\n",
    "random_numbers = [randint(1, 100) for i in range(5)]\n",
    "\n",
    "numeros = []\n",
    "\n",
    "# Guarda los números en otra lista\n",
    "for i in random_numbers:\n",
    "    numeros.append(i)\n",
    "\n",
    "print(numeros)\n",
    "\n",
    "# Muestra cuál es el número más grande\n",
    "print(f\"El número más grande es: \", max(numeros))\n"
   ]
  },
  {
   "cell_type": "markdown",
   "id": "70a24b97",
   "metadata": {},
   "source": [
    "### Actividad 3:\n",
    "Contar cuántas veces aparece un número específico. Utiliza estructuras repetitivas para la resolucion de este ejercicio. "
   ]
  },
  {
   "cell_type": "code",
   "execution_count": 113,
   "id": "a9c8ebc7",
   "metadata": {},
   "outputs": [
    {
     "name": "stdout",
     "output_type": "stream",
     "text": [
      "Lista generada: [3, 32, 182, 147, 111, 102, 75, 72, 33, 142, 57, 37, 46, 13, 185, 28, 142, 138, 79, 26]\n",
      "Cantidad de veces que apareció 3: 1\n",
      "Cantidad de veces que apareció 32: 1\n",
      "Cantidad de veces que apareció 182: 1\n",
      "Cantidad de veces que apareció 147: 1\n",
      "Cantidad de veces que apareció 111: 1\n",
      "Cantidad de veces que apareció 102: 1\n",
      "Cantidad de veces que apareció 75: 1\n",
      "Cantidad de veces que apareció 72: 1\n",
      "Cantidad de veces que apareció 33: 1\n",
      "Cantidad de veces que apareció 142: 2\n",
      "Cantidad de veces que apareció 57: 1\n",
      "Cantidad de veces que apareció 37: 1\n",
      "Cantidad de veces que apareció 46: 1\n",
      "Cantidad de veces que apareció 13: 1\n",
      "Cantidad de veces que apareció 185: 1\n",
      "Cantidad de veces que apareció 28: 1\n",
      "Cantidad de veces que apareció 138: 1\n",
      "Cantidad de veces que apareció 79: 1\n",
      "Cantidad de veces que apareció 26: 1\n"
     ]
    }
   ],
   "source": [
    "from random import randint\n",
    "\n",
    "# Crea una lista con 20 números al azar entre 1 y 200\n",
    "lists = [randint(1, 200) for _ in range(20)]\n",
    "print(\"Lista generada:\", lists)\n",
    "\n",
    "contador = {}\n",
    "\n",
    "# Recorre cada número y cuenta cuántas veces aparece\n",
    "for numero in lists:\n",
    "    if numero in contador:\n",
    "        contador[numero] += 1\n",
    "    else:\n",
    "        contador[numero] = 1\n",
    "\n",
    "# Muestra cuántas veces salió cada número\n",
    "for numero, cantidad in contador.items():\n",
    "    print(f\"Cantidad de veces que apareció {numero}: {cantidad}\")\n"
   ]
  },
  {
   "cell_type": "markdown",
   "id": "b8dac397",
   "metadata": {},
   "source": [
    "### Actividad 4: \n",
    "Invertir una lista sin usar reverse() ni [::-1]"
   ]
  },
  {
   "cell_type": "code",
   "execution_count": 114,
   "id": "d04fd492",
   "metadata": {},
   "outputs": [
    {
     "name": "stdout",
     "output_type": "stream",
     "text": [
      "[25, 1, 43, 6, 43, 32, 16, 10]\n",
      "[10, 16, 32, 43, 6, 43, 1, 25]\n"
     ]
    }
   ],
   "source": [
    "from random import randint\n",
    "\n",
    "# Crea una lista con 8 números al azar entre 1 y 50\n",
    "lists_two = [randint(1, 50) for _ in range(8)]\n",
    "print(lists_two)\n",
    "\n",
    "orden_Reverso = []\n",
    "\n",
    "# Agrega cada número al principio de la nueva lista para que quede al revés\n",
    "for numero in lists_two:\n",
    "    orden_Reverso = [numero] + orden_Reverso\n",
    "\n",
    "print(orden_Reverso)\n"
   ]
  },
  {
   "cell_type": "markdown",
   "id": "8889d0f2",
   "metadata": {},
   "source": [
    "### Actividad 5:\n",
    "Sumar los elementos de dos listas posición por posición, utilizando solo bucles repetititivos (for,while)."
   ]
  },
  {
   "cell_type": "code",
   "execution_count": 115,
   "id": "bc0ec844",
   "metadata": {},
   "outputs": [
    {
     "name": "stdout",
     "output_type": "stream",
     "text": [
      "[3, 7, 11, 16, 18]\n"
     ]
    }
   ],
   "source": [
    "lists_one = [2, 4, 6, 7, 8]\n",
    "lists_two = [1, 3, 5, 9, 10]\n",
    "\n",
    "lista_suma = []\n",
    "\n",
    "# Suma los números que están en la misma posición de cada lista\n",
    "for i in range(len(lists_one)):\n",
    "    suma = lists_one[i] + lists_two[i]\n",
    "    lista_suma.append(suma)\n",
    "\n",
    "print(lista_suma)\n"
   ]
  },
  {
   "cell_type": "markdown",
   "id": "8ce33e6b",
   "metadata": {},
   "source": [
    "### Actividad 6:\n",
    "\n",
    "Escribir un programa que almacene el abecedario en una lista, elimine de la lista las letras que ocupen posiciones múltiplos de 3, y muestre por pantalla la lista resultante."
   ]
  },
  {
   "cell_type": "code",
   "execution_count": 116,
   "id": "b07326e2",
   "metadata": {},
   "outputs": [
    {
     "name": "stdout",
     "output_type": "stream",
     "text": [
      "['a', 'b', 'd', 'e', 'g', 'h', 'j', 'k', 'm', 'n', 'p', 'q', 's', 't', 'v', 'w', 'y', 'z']\n"
     ]
    }
   ],
   "source": [
    "abecedario = [\"a\", \"b\", \"c\", \"d\", \"e\", \"f\", \"g\", \"h\", \"i\", \"j\", \"k\", \"l\", \"m\",  \n",
    "              \"n\", \"o\", \"p\", \"q\", \"r\", \"s\", \"t\", \"u\", \"v\", \"w\", \"x\", \"y\", \"z\"]\n",
    "\n",
    "resultado = []\n",
    "\n",
    "# Recorre cada letra por su posición\n",
    "for i in range(len(abecedario)):\n",
    "    # Si la posición +1 no es múltiplo de 3, guarda la letra\n",
    "    if (i + 1) % 3 != 0:\n",
    "        resultado.append(abecedario[i])\n",
    "\n",
    "print(resultado)\n"
   ]
  },
  {
   "cell_type": "markdown",
   "id": "5bfeb4b5",
   "metadata": {},
   "source": [
    "### Actividad 7:\n",
    "\n",
    "Escribir un programa que pida al usuario una palabra y muestre por pantalla si es un palíndromo (una palabra que se escribe de la misma forma al derecho y al reves)."
   ]
  },
  {
   "cell_type": "code",
   "execution_count": 117,
   "id": "2365afcc",
   "metadata": {},
   "outputs": [
    {
     "name": "stdout",
     "output_type": "stream",
     "text": [
      "Palabra normal: ['o', 'r', 'o']\n",
      "Palabra inversa: ['o', 'r', 'o']\n",
      "Es un palíndromo.\n"
     ]
    }
   ],
   "source": [
    "palabra = input(\"Ingrese una palabra: \")\n",
    "\n",
    "# Guarda cada letra de la palabra en una lista\n",
    "palabra_normal = list(palabra)\n",
    "\n",
    "# Crea una nueva lista con las letras al revés\n",
    "palabra_inversa = palabra_normal[::-1]\n",
    "\n",
    "# Muestra la palabra original y su versión al revés\n",
    "print(\"Palabra normal:\", palabra_normal)\n",
    "print(\"Palabra inversa:\", palabra_inversa)\n",
    "\n",
    "# Compara las dos listas para ver si son iguales\n",
    "if palabra_normal == palabra_inversa:\n",
    "    print(\"Es un palíndromo.\")\n",
    "else:\n",
    "    print(\"No es un palíndromo.\")\n"
   ]
  },
  {
   "cell_type": "markdown",
   "id": "ed8b51be",
   "metadata": {},
   "source": [
    "### Actividad 8:\n",
    "\n",
    "Teniendo en cuenta el conjunto 1 y el conjunto 2, sin usar el operador de intersección &, calcular la intersección de dichos conjuntos."
   ]
  },
  {
   "cell_type": "code",
   "execution_count": 118,
   "id": "21a434b9",
   "metadata": {},
   "outputs": [
    {
     "name": "stdout",
     "output_type": "stream",
     "text": [
      "La intersección entre ambos conjuntos son: {3, 4}\n"
     ]
    }
   ],
   "source": [
    "conjunto1 = {1, 2, 3, 4}\n",
    "conjunto2 = {3, 4, 5, 6}\n",
    "\n",
    "interseccion = []\n",
    "\n",
    "for i in conjunto1:\n",
    "    if i in conjunto2:\n",
    "        interseccion.append(i)\n",
    "\n",
    "print(f\"La intersección entre ambos conjuntos son: {set(interseccion)}\")\n"
   ]
  },
  {
   "cell_type": "markdown",
   "id": "31b460dc",
   "metadata": {},
   "source": [
    "### Actividad 9:\n",
    "Eliminar duplicados de una lista usando un set."
   ]
  },
  {
   "cell_type": "code",
   "execution_count": null,
   "id": "0ef62008",
   "metadata": {},
   "outputs": [
    {
     "name": "stdout",
     "output_type": "stream",
     "text": [
      "{1, 2, 3, 4, 5}\n"
     ]
    }
   ],
   "source": [
    "lista = [1, 2, 2, 3, 4, 4, 5]\n",
    "\n",
    "# Al convertir la lista en conjunto, se eliminan los repetidos\n",
    "eliminar_duplicados = set(lista)\n",
    "\n",
    "print(eliminar_duplicados)\n"
   ]
  },
  {
   "cell_type": "markdown",
   "id": "075f1f2c",
   "metadata": {},
   "source": [
    "### Actividad 10:\n",
    "\n",
    "Escribir un programa que cree 2 matrices y realice su multiplicacion."
   ]
  },
  {
   "cell_type": "code",
   "execution_count": 121,
   "id": "4c1fd0e1",
   "metadata": {},
   "outputs": [
    {
     "name": "stdout",
     "output_type": "stream",
     "text": [
      "matriz 1: [[9, 4], [1, 5]]\n",
      "matriz 2: [[5, 6], [3, 8]]\n",
      "Resultado de la multiplicación:\n",
      "[57, 86]\n",
      "[20, 46]\n"
     ]
    }
   ],
   "source": [
    "from random import randint\n",
    "\n",
    "# Se crean dos matrices de 2x2 con números al azar\n",
    "matriz1 = [\n",
    "    [randint(0, 10), randint(0, 10)],\n",
    "    [randint(0, 10), randint(0, 10)]\n",
    "]\n",
    "\n",
    "matriz2 = [\n",
    "    [randint(0, 10), randint(0, 10)],\n",
    "    [randint(0, 10), randint(0, 10)]\n",
    "]\n",
    "\n",
    "# Espacio para guardar el resultado\n",
    "resultado = [\n",
    "    [0, 0],\n",
    "    [0, 0]\n",
    "]\n",
    "\n",
    "# Se combinan los valores de las dos matrices\n",
    "for i in range(2):\n",
    "    for j in range(2): \n",
    "        for k in range(2): \n",
    "            resultado[i][j] += matriz1[i][k] * matriz2[k][j]\n",
    "\n",
    "# Se muestran las dos matrices originales y el resultado\n",
    "print(f\"matriz 1: {matriz1}\")\n",
    "print(f\"matriz 2: {matriz2}\")\n",
    "print(\"Resultado de la multiplicación:\")\n",
    "for fila in resultado:\n",
    "    print(fila)\n"
   ]
  }
 ],
 "metadata": {
  "kernelspec": {
   "display_name": "Python 3",
   "language": "python",
   "name": "python3"
  },
  "language_info": {
   "codemirror_mode": {
    "name": "ipython",
    "version": 3
   },
   "file_extension": ".py",
   "mimetype": "text/x-python",
   "name": "python",
   "nbconvert_exporter": "python",
   "pygments_lexer": "ipython3",
   "version": "3.13.2"
  }
 },
 "nbformat": 4,
 "nbformat_minor": 5
}
